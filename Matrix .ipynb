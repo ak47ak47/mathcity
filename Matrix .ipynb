{
  "nbformat": 4,
  "nbformat_minor": 0,
  "metadata": {
    "colab": {
      "provenance": [],
      "authorship_tag": "ABX9TyPH+XLHqQ/L+xZ196PlRnKf",
      "include_colab_link": true
    },
    "kernelspec": {
      "name": "python3",
      "display_name": "Python 3"
    },
    "language_info": {
      "name": "python"
    }
  },
  "cells": [
    {
      "cell_type": "markdown",
      "metadata": {
        "id": "view-in-github",
        "colab_type": "text"
      },
      "source": [
        "<a href=\"https://colab.research.google.com/github/ak47ak47/mathcity/blob/main/Matrix%20.ipynb\" target=\"_parent\"><img src=\"https://colab.research.google.com/assets/colab-badge.svg\" alt=\"Open In Colab\"/></a>"
      ]
    },
    {
      "cell_type": "code",
      "execution_count": null,
      "metadata": {
        "id": "Mfh7HxMlnE_S"
      },
      "outputs": [],
      "source": [
        "class Matrix:\n",
        "    def __init__(self, rows, cols):\n",
        "        self.rows = rows\n",
        "        self.cols = cols\n",
        "        self.data = [[0] * cols for _ in range(rows)]\n",
        "\n",
        "    def display(self):\n",
        "        for row in self.data:\n",
        "            print(row)\n",
        "\n",
        "    def add(self, other):\n",
        "        if self.rows != other.rows or self.cols != other.cols:\n",
        "            raise ValueError(\"Matrices must have the same dimensions for addition.\")\n",
        "\n",
        "        result = Matrix(self.rows, self.cols)\n",
        "        for i in range(self.rows):\n",
        "            for j in range(self.cols):\n",
        "                result.data[i][j] = self.data[i][j] + other.data[i][j]\n",
        "\n",
        "        return result\n",
        "\n",
        "    def multiply(self, other):\n",
        "        if self.cols != other.rows:\n",
        "            raise ValueError(\"Number of columns in the first matrix must be equal to the number of rows in the second matrix.\")\n",
        "\n",
        "        result = Matrix(self.rows, other.cols)\n",
        "        for i in range(self.rows):\n",
        "            for j in range(other.cols):\n",
        "                for k in range(self.cols):\n",
        "                    result.data[i][j] += self.data[i][k] * other.data[k][j]\n",
        "\n",
        "        return result"
      ]
    },
    {
      "cell_type": "code",
      "source": [
        "class Matrix:\n",
        "    def __init__(self, rows, cols):\n",
        "        self.rows = rows\n",
        "        self.cols = cols\n",
        "        self.data = [[0 for _ in range(cols)] for _ in range(rows)]\n",
        "\n",
        "    def display(self):\n",
        "        for row in self.data:\n",
        "            print(row)\n",
        "\n",
        "    def add(self, other):\n",
        "        if self.rows != other.rows or self.cols != other.cols:\n",
        "            raise ValueError(\"Matrices must have the same dimensions for addition.\")\n",
        "\n",
        "        result = Matrix(self.rows, self.cols)\n",
        "        for i in range(self.rows):\n",
        "            for j in range(self.cols):\n",
        "                result.data[i][j] = self.data[i][j] + other.data[i][j]\n",
        "\n",
        "        return result\n",
        "\n",
        "    def multiply(self, other):\n",
        "        if self.cols != other.rows:\n",
        "            raise ValueError(\"Number of columns in the first matrix must be equal to the number of rows in the second matrix.\")\n",
        "\n",
        "        result = Matrix(self.rows, other.cols)\n",
        "        for i in range(self.rows):\n",
        "            for j in range(other.cols):\n",
        "                for k in range(self.cols):\n",
        "                    result.data[i][j] += self.data[i][k] * other.data[k][j]\n",
        "\n",
        "        return result\n",
        "\n",
        "# Test Code\n",
        "matrix1 = Matrix(2, 3)\n",
        "matrix1.data = [[1, 2, 3], [4, 5, 6]]\n",
        "\n",
        "matrix2 = Matrix(2, 3)\n",
        "matrix2.data = [[7, 8, 9], [10, 11, 12]]\n",
        "\n",
        "matrix3 = Matrix(3, 2)\n",
        "matrix3.data = [[1, 2], [3, 4], [5, 6]]\n",
        "\n",
        "print(\"Matrix 1:\")\n",
        "matrix1.display()\n",
        "\n",
        "print(\"\\nMatrix 2:\")\n",
        "matrix2.display()\n",
        "\n",
        "print(\"\\nMatrix 3:\")\n",
        "matrix3.display()\n",
        "\n",
        "result_addition = matrix1.add(matrix2)\n",
        "print(\"\\nMatrix 1 + Matrix 2:\")\n",
        "result_addition.display()\n",
        "\n",
        "result_multiplication = matrix1.multiply(matrix3)\n",
        "print(\"\\nMatrix 1 * Matrix 3:\")\n",
        "result_multiplication.display()"
      ],
      "metadata": {
        "colab": {
          "base_uri": "https://localhost:8080/"
        },
        "id": "4muCnr_toQrx",
        "outputId": "2c9a17e6-69bc-483f-a503-010ec22e2e49"
      },
      "execution_count": 3,
      "outputs": [
        {
          "output_type": "stream",
          "name": "stdout",
          "text": [
            "Matrix 1:\n",
            "[1, 2, 3]\n",
            "[4, 5, 6]\n",
            "\n",
            "Matrix 2:\n",
            "[7, 8, 9]\n",
            "[10, 11, 12]\n",
            "\n",
            "Matrix 3:\n",
            "[1, 2]\n",
            "[3, 4]\n",
            "[5, 6]\n",
            "\n",
            "Matrix 1 + Matrix 2:\n",
            "[8, 10, 12]\n",
            "[14, 16, 18]\n",
            "\n",
            "Matrix 1 * Matrix 3:\n",
            "[22, 28]\n",
            "[49, 64]\n"
          ]
        }
      ]
    }
  ]
}